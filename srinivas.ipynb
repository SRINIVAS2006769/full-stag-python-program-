{
 "cells": [
  {
   "cell_type": "code",
   "execution_count": 2,
   "id": "08adee7f-6b3c-4f8e-bb83-600dcea5f566",
   "metadata": {},
   "outputs": [
    {
     "name": "stdout",
     "output_type": "stream",
     "text": [
      "Hello, Python Full Stack Students\n"
     ]
    }
   ],
   "source": [
    "print(\"Hello, Python Full Stack Students\")"
   ]
  },
  {
   "cell_type": "code",
   "execution_count": 3,
   "id": "872fd6b7-2096-4f16-836b-d7c7d63f3025",
   "metadata": {},
   "outputs": [
    {
     "name": "stdout",
     "output_type": "stream",
     "text": [
      "My Name is Srinivas\n"
     ]
    }
   ],
   "source": [
    "print(\"My Name is Srinivas\")"
   ]
  },
  {
   "cell_type": "code",
   "execution_count": 6,
   "id": "586f2ed9-4556-40e3-a372-a5e395429e51",
   "metadata": {},
   "outputs": [
    {
     "name": "stdout",
     "output_type": "stream",
     "text": [
      "I am Studying in B.COM(CA)B\n"
     ]
    }
   ],
   "source": [
    "print(\"I am Studying in B.COM(CA)B\")"
   ]
  },
  {
   "cell_type": "code",
   "execution_count": 8,
   "id": "68a077a4-cf2e-4c3e-bfea-246df7ddcf78",
   "metadata": {},
   "outputs": [],
   "source": [
    "Name = \"SRINIVAS\"\n",
    "Age  = 19\n",
    "GPA  = 9.5\n",
    "is_student = True"
   ]
  },
  {
   "cell_type": "code",
   "execution_count": 12,
   "id": "5e78e7b3-3e90-45e0-80b5-e5e1ee7a9316",
   "metadata": {},
   "outputs": [
    {
     "name": "stdout",
     "output_type": "stream",
     "text": [
      "SRINIVAS 19 9.5 True\n"
     ]
    }
   ],
   "source": [
    "print(Name,Age,GPA,is_student)"
   ]
  },
  {
   "cell_type": "code",
   "execution_count": 13,
   "id": "207397a1-82d5-4444-9d9c-717ebbadbf94",
   "metadata": {},
   "outputs": [],
   "source": [
    "Name = \"RITHIK\"\n",
    "Age  = 18\n",
    "GPA  = 7.5\n",
    "is_student = False "
   ]
  },
  {
   "cell_type": "code",
   "execution_count": 15,
   "id": "59d93125-9e68-44c2-b2c3-ae40d8beb172",
   "metadata": {},
   "outputs": [
    {
     "name": "stdout",
     "output_type": "stream",
     "text": [
      "RITHIK 18 7.5 False\n"
     ]
    }
   ],
   "source": [
    "print(Name,Age,GPA,is_student)"
   ]
  },
  {
   "cell_type": "code",
   "execution_count": 17,
   "id": "d61a9ff9-555b-400e-b10f-b59668a78875",
   "metadata": {},
   "outputs": [
    {
     "name": "stdout",
     "output_type": "stream",
     "text": [
      "<class 'int'> <class 'float'> <class 'str'> <class 'bool'>\n"
     ]
    }
   ],
   "source": [
    "x = 10\n",
    "y = 3.14\n",
    "z = \"python\"\n",
    "flag = False \n",
    "print(type(x),type(y),type(z),type(flag))"
   ]
  },
  {
   "cell_type": "code",
   "execution_count": 21,
   "id": "2f111026-7d89-4c4f-966d-de9f9acb8dfe",
   "metadata": {},
   "outputs": [
    {
     "name": "stdout",
     "output_type": "stream",
     "text": [
      "srinivas Avinash python\n"
     ]
    }
   ],
   "source": [
    "name=\"srinivas\"\n",
    "collage=\"Avinash\"\n",
    "favprogramming=\"python\"\n",
    "print(name,collage,favprogramming)"
   ]
  },
  {
   "cell_type": "code",
   "execution_count": 26,
   "id": "a90b4b47-cf8f-4298-90d0-26f98f56608f",
   "metadata": {},
   "outputs": [
    {
     "name": "stdout",
     "output_type": "stream",
     "text": [
      "<class 'str'> <class 'int'> <class 'str'>\n"
     ]
    }
   ],
   "source": [
    "movie_name=\"og\"\n",
    "release_date=2025\n",
    "rating=\"good\"\n",
    "print(type(movie_name),type(release_date),type(rating))\n"
   ]
  },
  {
   "cell_type": "code",
   "execution_count": 28,
   "id": "256fb82e-95be-43ef-a36f-535f52fb2252",
   "metadata": {},
   "outputs": [
    {
     "name": "stdout",
     "output_type": "stream",
     "text": [
      "addition: 20\n",
      "division: 3.0\n",
      "floor division: 3\n",
      "power: 759375\n"
     ]
    }
   ],
   "source": [
    "a=15\n",
    "b=5\n",
    "print(\"addition:\",a + b)\n",
    "print(\"division:\",a / b)\n",
    "print(\"floor division:\",a//b)\n",
    "print(\"power:\",a**b)\n"
   ]
  },
  {
   "cell_type": "code",
   "execution_count": 29,
   "id": "6f7dee84-c587-4fbb-bc18-d7a52a108fc4",
   "metadata": {},
   "outputs": [
    {
     "name": "stdout",
     "output_type": "stream",
     "text": [
      "False\n",
      "True\n",
      "True\n"
     ]
    }
   ],
   "source": [
    "a=10\n",
    "b=20\n",
    "print(a > b)  #False\n",
    "print(a == 10) #true \n",
    "print ((a < b) and (b == 20)) #true\n"
   ]
  },
  {
   "cell_type": "code",
   "execution_count": null,
   "id": "3c72e177-e092-4679-82fb-0406c2e2af0f",
   "metadata": {},
   "outputs": [],
   "source": [
    "| "
   ]
  }
 ],
 "metadata": {
  "kernelspec": {
   "display_name": "Python [conda env:base] *",
   "language": "python",
   "name": "conda-base-py"
  },
  "language_info": {
   "codemirror_mode": {
    "name": "ipython",
    "version": 3
   },
   "file_extension": ".py",
   "mimetype": "text/x-python",
   "name": "python",
   "nbconvert_exporter": "python",
   "pygments_lexer": "ipython3",
   "version": "3.13.5"
  }
 },
 "nbformat": 4,
 "nbformat_minor": 5
}
