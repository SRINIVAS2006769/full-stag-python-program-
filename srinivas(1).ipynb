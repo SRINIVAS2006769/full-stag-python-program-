{
 "cells": [
  {
   "cell_type": "code",
   "execution_count": 2,
   "id": "08adee7f-6b3c-4f8e-bb83-600dcea5f566",
   "metadata": {},
   "outputs": [
    {
     "name": "stdout",
     "output_type": "stream",
     "text": [
      "Hello, Python Full Stack Students\n"
     ]
    }
   ],
   "source": [
    "print(\"Hello, Python Full Stack Students\")"
   ]
  },
  {
   "cell_type": "code",
   "execution_count": 3,
   "id": "872fd6b7-2096-4f16-836b-d7c7d63f3025",
   "metadata": {},
   "outputs": [
    {
     "name": "stdout",
     "output_type": "stream",
     "text": [
      "My Name is Srinivas\n"
     ]
    }
   ],
   "source": [
    "print(\"My Name is Srinivas\")"
   ]
  },
  {
   "cell_type": "code",
   "execution_count": 6,
   "id": "586f2ed9-4556-40e3-a372-a5e395429e51",
   "metadata": {},
   "outputs": [
    {
     "name": "stdout",
     "output_type": "stream",
     "text": [
      "I am Studying in B.COM(CA)B\n"
     ]
    }
   ],
   "source": [
    "print(\"I am Studying in B.COM(CA)B\")"
   ]
  },
  {
   "cell_type": "code",
   "execution_count": 8,
   "id": "68a077a4-cf2e-4c3e-bfea-246df7ddcf78",
   "metadata": {},
   "outputs": [],
   "source": [
    "Name = \"SRINIVAS\"\n",
    "Age  = 19\n",
    "GPA  = 9.5\n",
    "is_student = True"
   ]
  },
  {
   "cell_type": "code",
   "execution_count": 12,
   "id": "5e78e7b3-3e90-45e0-80b5-e5e1ee7a9316",
   "metadata": {},
   "outputs": [
    {
     "name": "stdout",
     "output_type": "stream",
     "text": [
      "SRINIVAS 19 9.5 True\n"
     ]
    }
   ],
   "source": [
    "print(Name,Age,GPA,is_student)"
   ]
  },
  {
   "cell_type": "code",
   "execution_count": 13,
   "id": "207397a1-82d5-4444-9d9c-717ebbadbf94",
   "metadata": {},
   "outputs": [],
   "source": [
    "Name = \"RITHIK\"\n",
    "Age  = 18\n",
    "GPA  = 7.5\n",
    "is_student = False "
   ]
  },
  {
   "cell_type": "code",
   "execution_count": 15,
   "id": "59d93125-9e68-44c2-b2c3-ae40d8beb172",
   "metadata": {},
   "outputs": [
    {
     "name": "stdout",
     "output_type": "stream",
     "text": [
      "RITHIK 18 7.5 False\n"
     ]
    }
   ],
   "source": [
    "print(Name,Age,GPA,is_student)"
   ]
  },
  {
   "cell_type": "code",
   "execution_count": 17,
   "id": "d61a9ff9-555b-400e-b10f-b59668a78875",
   "metadata": {},
   "outputs": [
    {
     "name": "stdout",
     "output_type": "stream",
     "text": [
      "<class 'int'> <class 'float'> <class 'str'> <class 'bool'>\n"
     ]
    }
   ],
   "source": [
    "x = 10\n",
    "y = 3.14\n",
    "z = \"python\"\n",
    "flag = False \n",
    "print(type(x),type(y),type(z),type(flag))"
   ]
  },
  {
   "cell_type": "code",
   "execution_count": 21,
   "id": "2f111026-7d89-4c4f-966d-de9f9acb8dfe",
   "metadata": {},
   "outputs": [
    {
     "name": "stdout",
     "output_type": "stream",
     "text": [
      "srinivas Avinash python\n"
     ]
    }
   ],
   "source": [
    "name=\"srinivas\"\n",
    "collage=\"Avinash\"\n",
    "favprogramming=\"python\"\n",
    "print(name,collage,favprogramming)"
   ]
  },
  {
   "cell_type": "code",
   "execution_count": 26,
   "id": "a90b4b47-cf8f-4298-90d0-26f98f56608f",
   "metadata": {},
   "outputs": [
    {
     "name": "stdout",
     "output_type": "stream",
     "text": [
      "<class 'str'> <class 'int'> <class 'str'>\n"
     ]
    }
   ],
   "source": [
    "movie_name=\"og\"\n",
    "release_date=2025\n",
    "rating=\"good\"\n",
    "print(type(movie_name),type(release_date),type(rating))\n"
   ]
  },
  {
   "cell_type": "code",
   "execution_count": 28,
   "id": "256fb82e-95be-43ef-a36f-535f52fb2252",
   "metadata": {},
   "outputs": [
    {
     "name": "stdout",
     "output_type": "stream",
     "text": [
      "addition: 20\n",
      "division: 3.0\n",
      "floor division: 3\n",
      "power: 759375\n"
     ]
    }
   ],
   "source": [
    "a=15\n",
    "b=5\n",
    "print(\"addition:\",a + b)\n",
    "print(\"division:\",a / b)\n",
    "print(\"floor division:\",a//b)\n",
    "print(\"power:\",a**b)\n"
   ]
  },
  {
   "cell_type": "code",
   "execution_count": 29,
   "id": "6f7dee84-c587-4fbb-bc18-d7a52a108fc4",
   "metadata": {},
   "outputs": [
    {
     "name": "stdout",
     "output_type": "stream",
     "text": [
      "False\n",
      "True\n",
      "True\n"
     ]
    }
   ],
   "source": [
    "a=10\n",
    "b=20\n",
    "print(a > b)  #False\n",
    "print(a == 10) #true \n",
    "print ((a < b) and (b == 20)) #true\n"
   ]
  },
  {
   "cell_type": "code",
   "execution_count": 13,
   "id": "3c72e177-e092-4679-82fb-0406c2e2af0f",
   "metadata": {},
   "outputs": [
    {
     "name": "stdout",
     "output_type": "stream",
     "text": [
      "['apple', 'banana', 'mango', 'orange']\n",
      "banana\n"
     ]
    }
   ],
   "source": [
    "fruits=[\"apple\",\"banana\",\"mango\"]\n",
    "fruits.append(\"orange\")\n",
    "print(fruits)\n",
    "print(fruits[1])"
   ]
  },
  {
   "cell_type": "code",
   "execution_count": 9,
   "id": "5352e514-3910-4265-aa02-bc5d90b46ae7",
   "metadata": {},
   "outputs": [
    {
     "name": "stdout",
     "output_type": "stream",
     "text": [
      "['srinivas', 'tanish', 'saketh']\n"
     ]
    }
   ],
   "source": [
    "names=[\"srinivas\", \"tanish\",\"saketh\"]\n",
    "print(names)\n",
    "name.append(\"rithvik\")"
   ]
  },
  {
   "cell_type": "raw",
   "id": "a4b4818c-0d89-477c-a301-00b08a48d50d",
   "metadata": {},
   "source": []
  },
  {
   "cell_type": "code",
   "execution_count": 14,
   "id": "ce4d29fe-920d-4c55-bcf4-a58c96135c4c",
   "metadata": {},
   "outputs": [],
   "source": [
    "fruits.remove(\"banana\")"
   ]
  },
  {
   "cell_type": "code",
   "execution_count": 15,
   "id": "f0dd2a5a-de28-4ba3-a347-e32b1ae68b26",
   "metadata": {},
   "outputs": [
    {
     "name": "stdout",
     "output_type": "stream",
     "text": [
      "['apple', 'mango', 'orange']\n"
     ]
    }
   ],
   "source": [
    "print(fruits)"
   ]
  },
  {
   "cell_type": "code",
   "execution_count": 16,
   "id": "1c12ba76-9a2a-44ac-b5d6-f9013fb7213a",
   "metadata": {},
   "outputs": [],
   "source": [
    "colors = (\"red\", \"green\", \"blue\")"
   ]
  },
  {
   "cell_type": "code",
   "execution_count": 19,
   "id": "503bb806-8b9f-4daa-8c59-010f964e8242",
   "metadata": {},
   "outputs": [
    {
     "name": "stdout",
     "output_type": "stream",
     "text": [
      "red\n"
     ]
    }
   ],
   "source": [
    "print(colors[0])"
   ]
  },
  {
   "cell_type": "code",
   "execution_count": 21,
   "id": "46041a49-5b87-4bc8-bcf0-972f3bcd58b6",
   "metadata": {},
   "outputs": [
    {
     "data": {
      "text/plain": [
       "'green'"
      ]
     },
     "execution_count": 21,
     "metadata": {},
     "output_type": "execute_result"
    }
   ],
   "source": [
    "colors[1]"
   ]
  },
  {
   "cell_type": "code",
   "execution_count": 22,
   "id": "17c6b6cb-b2e9-4230-bd5e-50a5b819906b",
   "metadata": {},
   "outputs": [],
   "source": [
    "num = {1, 2, 3, 4}"
   ]
  },
  {
   "cell_type": "code",
   "execution_count": 23,
   "id": "e692119f-778c-4946-84b7-7993c4df0ecc",
   "metadata": {},
   "outputs": [
    {
     "name": "stdout",
     "output_type": "stream",
     "text": [
      "{1, 2, 3, 4}\n"
     ]
    }
   ],
   "source": [
    "print(num)"
   ]
  },
  {
   "cell_type": "code",
   "execution_count": 24,
   "id": "133030fc-63a9-4fa9-9b28-973c55a25e21",
   "metadata": {},
   "outputs": [],
   "source": [
    "num.add(5)"
   ]
  },
  {
   "cell_type": "code",
   "execution_count": 25,
   "id": "553d768f-28c3-4810-b928-da80cb420f2b",
   "metadata": {},
   "outputs": [
    {
     "name": "stdout",
     "output_type": "stream",
     "text": [
      "{1, 2, 3, 4, 5}\n"
     ]
    }
   ],
   "source": [
    "print(num)"
   ]
  },
  {
   "cell_type": "markdown",
   "id": "f7d1b51c-6be8-482f-9afc-0dce5723a2b3",
   "metadata": {},
   "source": [
    "## DICTIONARIES"
   ]
  },
  {
   "cell_type": "code",
   "execution_count": 28,
   "id": "5dd70464-013d-4f31-826b-b921b1d6fc1d",
   "metadata": {},
   "outputs": [],
   "source": [
    "student = {\n",
    "     \"name\":\"srinivas\",\n",
    "    \"age\":21,\n",
    "    \"course\":\"python full stack\"\n",
    "}"
   ]
  },
  {
   "cell_type": "code",
   "execution_count": 29,
   "id": "c09577a3-bc49-4c65-aaed-480664335cf5",
   "metadata": {},
   "outputs": [
    {
     "name": "stdout",
     "output_type": "stream",
     "text": [
      "{'name': 'srinivas', 'age': 21, 'course': 'python full stack'}\n"
     ]
    }
   ],
   "source": [
    "print(student)"
   ]
  },
  {
   "cell_type": "code",
   "execution_count": 30,
   "id": "c8e7aa7c-c5d5-43e8-a763-2546b9c6ec1c",
   "metadata": {},
   "outputs": [
    {
     "name": "stdout",
     "output_type": "stream",
     "text": [
      "srinivas\n"
     ]
    }
   ],
   "source": [
    "print(student[\"name\"])"
   ]
  },
  {
   "cell_type": "code",
   "execution_count": 31,
   "id": "e697fc87-cfb1-462f-acba-980431108aaf",
   "metadata": {},
   "outputs": [
    {
     "name": "stdout",
     "output_type": "stream",
     "text": [
      "age\n"
     ]
    }
   ],
   "source": [
    "print(\"age\")"
   ]
  },
  {
   "cell_type": "code",
   "execution_count": 32,
   "id": "cfa4aef8-bf8c-4afa-8ae6-75f3c33fe400",
   "metadata": {},
   "outputs": [
    {
     "name": "stdout",
     "output_type": "stream",
     "text": [
      "{'name': 'srinivas', 'age': 21, 'course': 'python full stack'}\n"
     ]
    }
   ],
   "source": [
    "print(student)"
   ]
  },
  {
   "cell_type": "code",
   "execution_count": 37,
   "id": "e6766e02-e5d5-49ce-8843-8570b344022c",
   "metadata": {},
   "outputs": [],
   "source": [
    "student[\"collegee\"] = \"avinash college of commerce\""
   ]
  },
  {
   "cell_type": "code",
   "execution_count": 40,
   "id": "be4124c8-68f4-45dd-a096-3f587b1f3558",
   "metadata": {},
   "outputs": [
    {
     "name": "stdout",
     "output_type": "stream",
     "text": [
      "grade:B\n"
     ]
    }
   ],
   "source": [
    "marks = 75\n",
    "if marks >=90:\n",
    "   print(\"grade:A\")\n",
    "elif marks >=75:\n",
    "   print(\"grade:B\")\n",
    "elif marks >=50:\n",
    "    print(\"grade:C\")\n",
    "else :\n",
    "    print(\"grade:fail\")"
   ]
  },
  {
   "cell_type": "code",
   "execution_count": 3,
   "id": "f3a635a2-c948-4643-9592-27a6c9701539",
   "metadata": {},
   "outputs": [
    {
     "name": "stdout",
     "output_type": "stream",
     "text": [
      "Number: 1\n",
      "Number: 2\n",
      "Number: 3\n",
      "Number: 4\n",
      "Number: 5\n"
     ]
    }
   ],
   "source": [
    "for i in range(1,6):\n",
    "    print(\"Number:\", i)"
   ]
  },
  {
   "cell_type": "code",
   "execution_count": 4,
   "id": "75b6c0b0-9c7e-410e-9d55-1562ca28414c",
   "metadata": {},
   "outputs": [
    {
     "name": "stdout",
     "output_type": "stream",
     "text": [
      "count: 1\n",
      "count: 2\n",
      "count: 3\n",
      "count: 4\n",
      "count: 5\n"
     ]
    }
   ],
   "source": [
    "count=1\n",
    "while count<=5:\n",
    "    print(\"count:\",count)\n",
    "    count +=1\n"
   ]
  },
  {
   "cell_type": "code",
   "execution_count": 5,
   "id": "d877b7db-29ac-4f17-ad95-6b20ff41fd93",
   "metadata": {},
   "outputs": [
    {
     "name": "stdout",
     "output_type": "stream",
     "text": [
      "1\n",
      "2\n",
      "3\n",
      "4\n"
     ]
    }
   ],
   "source": [
    "for i in range(1,10):\n",
    "    if i ==5:\n",
    "        break\n",
    "    print(i)"
   ]
  },
  {
   "cell_type": "code",
   "execution_count": 6,
   "id": "27e417e0-37fe-414a-85d6-859cd769deb7",
   "metadata": {},
   "outputs": [
    {
     "name": "stdout",
     "output_type": "stream",
     "text": [
      "count: 1\n",
      "count: 2\n",
      "count: 3\n",
      "count: 4\n",
      "count: 5\n",
      "count: 6\n",
      "count: 7\n",
      "count: 8\n",
      "count: 9\n",
      "count: 10\n",
      "count: 11\n",
      "count: 12\n",
      "count: 13\n",
      "count: 14\n",
      "count: 15\n",
      "count: 16\n",
      "count: 17\n",
      "count: 18\n",
      "count: 19\n",
      "count: 20\n",
      "count: 21\n",
      "count: 22\n",
      "count: 23\n",
      "count: 24\n",
      "count: 25\n",
      "count: 26\n",
      "count: 27\n",
      "count: 28\n",
      "count: 29\n",
      "count: 30\n",
      "count: 31\n",
      "count: 32\n",
      "count: 33\n",
      "count: 34\n",
      "count: 35\n",
      "count: 36\n",
      "count: 37\n",
      "count: 38\n",
      "count: 39\n",
      "count: 40\n",
      "count: 41\n",
      "count: 42\n",
      "count: 43\n",
      "count: 44\n",
      "count: 45\n",
      "count: 46\n",
      "count: 47\n",
      "count: 48\n",
      "count: 49\n",
      "count: 50\n",
      "count: 51\n",
      "count: 52\n",
      "count: 53\n",
      "count: 54\n",
      "count: 55\n",
      "count: 56\n",
      "count: 57\n",
      "count: 58\n",
      "count: 59\n",
      "count: 60\n",
      "count: 61\n",
      "count: 62\n",
      "count: 63\n",
      "count: 64\n",
      "count: 65\n",
      "count: 66\n",
      "count: 67\n",
      "count: 68\n",
      "count: 69\n",
      "count: 70\n",
      "count: 71\n",
      "count: 72\n",
      "count: 73\n",
      "count: 74\n",
      "count: 75\n",
      "count: 76\n",
      "count: 77\n",
      "count: 78\n",
      "count: 79\n",
      "count: 80\n",
      "count: 81\n",
      "count: 82\n",
      "count: 83\n",
      "count: 84\n",
      "count: 85\n",
      "count: 86\n",
      "count: 87\n",
      "count: 88\n",
      "count: 89\n",
      "count: 90\n",
      "count: 91\n",
      "count: 92\n",
      "count: 93\n",
      "count: 94\n",
      "count: 95\n",
      "count: 96\n",
      "count: 97\n",
      "count: 98\n",
      "count: 99\n",
      "count: 100\n"
     ]
    }
   ],
   "source": [
    "count=1\n",
    "while count<=100:\n",
    "    print(\"count:\",count)\n",
    "    count+=1"
   ]
  },
  {
   "cell_type": "code",
   "execution_count": 7,
   "id": "c7a3a35d-96b8-445b-848d-206afad78e49",
   "metadata": {},
   "outputs": [
    {
     "name": "stdout",
     "output_type": "stream",
     "text": [
      "Number: 1\n",
      "Number: 2\n",
      "Number: 3\n",
      "Number: 4\n",
      "Number: 5\n",
      "Number: 6\n",
      "Number: 7\n",
      "Number: 8\n",
      "Number: 9\n"
     ]
    }
   ],
   "source": [
    "for i in range(1,10):\n",
    "    print(\"Number:\",i)"
   ]
  },
  {
   "cell_type": "code",
   "execution_count": null,
   "id": "2a9f5467-0955-456f-aa26-380455a4164f",
   "metadata": {},
   "outputs": [],
   "source": []
  }
 ],
 "metadata": {
  "kernelspec": {
   "display_name": "Python [conda env:base] *",
   "language": "python",
   "name": "conda-base-py"
  },
  "language_info": {
   "codemirror_mode": {
    "name": "ipython",
    "version": 3
   },
   "file_extension": ".py",
   "mimetype": "text/x-python",
   "name": "python",
   "nbconvert_exporter": "python",
   "pygments_lexer": "ipython3",
   "version": "3.13.5"
  }
 },
 "nbformat": 4,
 "nbformat_minor": 5
}
